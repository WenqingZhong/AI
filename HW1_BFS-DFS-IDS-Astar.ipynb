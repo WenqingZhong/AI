{
 "cells": [
  {
   "cell_type": "code",
   "execution_count": 2,
   "metadata": {},
   "outputs": [
    {
     "name": "stdout",
     "output_type": "stream",
     "text": [
      "Requirement already satisfied: pyenchant in c:\\users\\wenqing zhong\\anaconda3\\lib\\site-packages (3.1.1)\n"
     ]
    },
    {
     "name": "stderr",
     "output_type": "stream",
     "text": [
      "'apt-get' is not recognized as an internal or external command,\n",
      "operable program or batch file.\n"
     ]
    }
   ],
   "source": [
    "!pip install pyenchant\n",
    "!apt-get install libenchant1c2a"
   ]
  },
  {
   "cell_type": "code",
   "execution_count": 3,
   "metadata": {},
   "outputs": [],
   "source": [
    "import enchant, string\n",
    "\n",
    "def successors(state):\n",
    "  \"\"\"\n",
    "  Given a word, find all possible English word results from changing one letter.\n",
    "  Return a list of (action, word) pairs, where action is the index of the\n",
    "  changed letter.\n",
    "  \"\"\"\n",
    "  d = enchant.Dict(\"en_US\")\n",
    "  child_states = []\n",
    "  for i in range(len(state)):\n",
    "    new = [state[:i]+x+state[i+1:] for x in string.ascii_lowercase]\n",
    "    words = [x for x in new if d.check(x) and x != state]\n",
    "    child_states = child_states + [(i, word) for word in words]\n",
    "  return child_states\n"
   ]
  },
  {
   "cell_type": "code",
   "execution_count": 4,
   "metadata": {},
   "outputs": [],
   "source": [
    "from heapq import heappush, heappop\n",
    "\n",
    "def expand(node):\n",
    "  \"\"\"\n",
    "  Given a node, return a list of successor nodes\n",
    "  \"\"\"\n",
    "  state = node['state']\n",
    "  children = []\n",
    "  for successor in successors(state):\n",
    "    children.append({'state':successor[1], 'parent':node,\n",
    "                     'action':successor[0], 'cost':node['cost']+1})\n",
    "  return children\n",
    "\n",
    "\n",
    "def best_first_search(state, goal, f, depth_limit):\n",
    "  \"\"\"\n",
    "  Inputs: Initial state, goal state, priority function, depth limit\n",
    "  Returns node containing goal or None if no goal found within depth limit, \n",
    "  max frontier size, total nodes expanded\n",
    "  \"\"\"\n",
    "  node = {'state':state, 'parent':None, 'action':None, 'cost':0}\n",
    "  frontier = []\n",
    "  heappush(frontier, (f(node, goal), id(node), node))\n",
    "  reached = {state: node}\n",
    "  max_frontier = 1\n",
    "  nodes_expanded = 0\n",
    "  \n",
    "  result=None\n",
    "  while frontier:\n",
    "    max_frontier = max(max_frontier, len(frontier))\n",
    "    node = heappop(frontier)[2]\n",
    "    nodes_expanded=nodes_expanded+1\n",
    "    \n",
    "    if (node['state']==goal):\n",
    "      result= node\n",
    "      break\n",
    "    else:\n",
    "      if node['cost']<depth_limit:\n",
    "        children=expand(node)\n",
    "        for c in children:\n",
    "          s= c['state']\n",
    "          if s in reached and c['cost']< reached[s]['cost']:\n",
    "                reached.update({s:c})\n",
    "                heappush(frontier, (f(c, goal), id(c), c))\n",
    "          elif s not in reached:\n",
    "            reached.update({s:c})\n",
    "            heappush(frontier, (f(c, goal), id(c), c))\n",
    "      \n",
    "  return result, max_frontier, nodes_expanded\n",
    "\n",
    "\n",
    "\n",
    "def general_f(node,goal):\n",
    "    return 1"
   ]
  },
  {
   "cell_type": "code",
   "execution_count": 5,
   "metadata": {},
   "outputs": [],
   "source": [
    "def f_bfs(node, goal):\n",
    "  return node['cost']\n",
    "\n",
    "\n",
    "def f_dfs(node, goal):\n",
    "  return (-node['cost'])\n"
   ]
  },
  {
   "cell_type": "code",
   "execution_count": 6,
   "metadata": {},
   "outputs": [],
   "source": [
    "def sequence(node):\n",
    "  words = [node['state']]\n",
    "  while node['parent'] is not None:\n",
    "    node = node['parent']\n",
    "    words.insert(0, node['state'])\n",
    "  return words\n",
    "\n",
    "def results(solution):\n",
    "  if solution[0] is not None:\n",
    "    words = sequence(solution[0])\n",
    "  else: words = \"No solution!\"\n",
    "  print(words)\n",
    "  print(\"Total cost:\", len(words)-1)\n",
    "  print(\"Max frontier size:\", solution[1])\n",
    "  print(\"Nodes expanded:\", solution[2])\n",
    "  print(\"\")"
   ]
  },
  {
   "cell_type": "code",
   "execution_count": null,
   "metadata": {},
   "outputs": [],
   "source": [
    "start = 'cat'\n",
    "goal = 'cop'\n",
    "\n",
    "solution = best_first_search(start, goal, f_bfs, float(\"inf\"))\n",
    "print(\"BFS\")\n",
    "results(solution)\n",
    "\n",
    "solution = best_first_search(start, goal, f_dfs, float(\"inf\"))\n",
    "print(\"DFS\")\n",
    "results(solution)"
   ]
  },
  {
   "cell_type": "code",
   "execution_count": null,
   "metadata": {},
   "outputs": [],
   "source": [
    "start = 'warm'\n",
    "goal = 'cold'\n",
    "\n",
    "solution = best_first_search(start, goal, f_bfs, float(\"inf\"))\n",
    "print(\"BFS\")\n",
    "results(solution)\n",
    "\n",
    "solution = best_first_search(start, goal, f_dfs, float(\"inf\"))\n",
    "print(\"DFS\")\n",
    "results(solution)"
   ]
  },
  {
   "cell_type": "code",
   "execution_count": null,
   "metadata": {},
   "outputs": [],
   "source": [
    "def iterative_deepening(start, goal, max_depth):\n",
    "  \"\"\"\n",
    "  Iterative deepening search up to max_depth\n",
    "  Calls best_first_search using DFS priority with increasing depth\n",
    "  Same return values as best_first_search\n",
    "  \"\"\"\n",
    "  max_frontier = 0\n",
    "  nodes_expanded = 0\n",
    "\n",
    "  # YOUR CODE HERE\n",
    "  result=None\n",
    "  for i in range(1,max_depth):\n",
    "    r = best_first_search(start, goal, f_dfs, i)\n",
    "    nodes_expanded=nodes_expanded+r[2]\n",
    "    if r[1]>max_frontier:\n",
    "        max_frontier=r[1] \n",
    "    if r[0] != None:\n",
    "       result=r[0]\n",
    "       break\n",
    " \n",
    "  return result, max_frontier, nodes_expanded"
   ]
  },
  {
   "cell_type": "code",
   "execution_count": null,
   "metadata": {},
   "outputs": [],
   "source": [
    "start = 'warm'\n",
    "goal = 'cold'\n",
    "\n",
    "solution = best_first_search(start, goal, f_bfs, float(\"inf\"))\n",
    "print(\"BFS\")\n",
    "results(solution)\n",
    "\n",
    "solution = iterative_deepening(start, goal, 10)\n",
    "print(\"IDS\")\n",
    "results(solution)\n",
    "\n",
    "solution = best_first_search(start, goal, f_dfs, float(\"inf\"))\n",
    "print(\"DFS\")\n",
    "results(solution)\n",
    "\n",
    "start = 'large'\n",
    "goal = 'small'\n",
    "\n",
    "solution = best_first_search(start, goal, f_bfs, float(\"inf\"))\n",
    "print(\"BFS\")\n",
    "results(solution)\n",
    "\n",
    "solution = iterative_deepening(start, goal, 20)\n",
    "print(\"IDS\")\n",
    "results(solution)\n",
    "\n",
    "solution = best_first_search(start, goal, f_dfs, float(\"inf\"))\n",
    "print(\"DFS\")\n",
    "results(solution)"
   ]
  },
  {
   "cell_type": "code",
   "execution_count": null,
   "metadata": {},
   "outputs": [],
   "source": [
    "def f_astar(node, goal):\n",
    "  # YOUR CODE HERE\n",
    "  s= node['state']\n",
    "  c=node['cost']\n",
    "  heuristic=0\n",
    "  for i in range(len(goal)):\n",
    "    if(s[i]!=goal[i]):\n",
    "      heuristic=heuristic+1\n",
    "  cost=c+heuristic\n",
    " \n",
    "  return cost\n"
   ]
  },
  {
   "cell_type": "code",
   "execution_count": null,
   "metadata": {},
   "outputs": [],
   "source": [
    "start = 'warm'\n",
    "goal = 'cold'\n",
    "\n",
    "solution = best_first_search(start, goal, f_astar, float(\"inf\"))\n",
    "print(\"A*\")\n",
    "results(solution)\n",
    "\n",
    "solution = iterative_deepening(start, goal, 10)\n",
    "print(\"IDS\")\n",
    "results(solution)\n",
    "\n",
    "start = 'large'\n",
    "goal = 'small'\n",
    "\n",
    "solution = best_first_search(start, goal, f_astar, float(\"inf\"))\n",
    "print(\"A*\")\n",
    "results(solution)\n",
    "\n",
    "solution = iterative_deepening(start, goal, 20)\n",
    "print(\"IDS\")\n",
    "results(solution)"
   ]
  }
 ],
 "metadata": {
  "kernelspec": {
   "display_name": "Python 3",
   "language": "python",
   "name": "python3"
  },
  "language_info": {
   "codemirror_mode": {
    "name": "ipython",
    "version": 3
   },
   "file_extension": ".py",
   "mimetype": "text/x-python",
   "name": "python",
   "nbconvert_exporter": "python",
   "pygments_lexer": "ipython3",
   "version": "3.7.4"
  }
 },
 "nbformat": 4,
 "nbformat_minor": 2
}
